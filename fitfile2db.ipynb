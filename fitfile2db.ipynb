{
 "cells": [
  {
   "attachments": {},
   "cell_type": "markdown",
   "metadata": {},
   "source": [
   "# FitFile2SQLite\n",
   "\n",
   "```markdown\n",
   "Author:         Maik 'Schrottie' Bischoff\n",
   "Decription:     Parse Garmin .fit files and write the data to a CSV file or database.\n",
   "Version:        0.3\n",
   "Date:           13.04.2023\n",
   "Requires:       dtcooper/python-fitparse (https://github.com/dtcooper/python-fitparse)\n",
    "```\n",
    "##### ToDo:\n",
    "\n",
    "<ul style=\"font-size: 85%;font-family: monospace\">\n",
    "    <li>...</li>\n",
    "</ul>\n",
    "\n",
    "##### Change-/Versionlog:\n",
    "\n",
    "<table>\n",
    "    <tr>\n",
    "        <td>\n",
    "            <span style=\"font-size: 85%;font-family: monospace\">0.3:</span>\n",
    "        </td>\n",
    "        <td>\n",
    "            <ul style=\"font-size: 85%;font-family: monospace\">\n",
    "                <li>Added function to convert mph to kph</li>\n",
    "                <li>Added a function for write data into database.\n",
    "                    <ul>\n",
    "                        <li>convert some fields to correct datatype</li>\n",
    "                        <li>check whether all fields from the current .fit-file exist in an existing table, if necessary updating the table with the new fields</li>\n",
    "                    </ul>\n",
    "                </li>\n",
    "            </ul>\n",
    "        </td>\n",
    "    </tr>\n",
    "    <tr>\n",
    "        <td>\n",
    "            <span style=\"font-size: 85%;font-family: monospace\">0.2:</span>\n",
    "        </td>\n",
    "        <td>\n",
    "            <ul style=\"font-size: 85%;font-family: monospace\">\n",
    "                <li>Added a function to recursively search a directory for .fit files to allow processing multiple files at the same time.</li>\n",
    "                <li>Adjusting the field label for the longitude (position_long --> position_lon) so that the field is recognized properly when the data is processed further (e.g. in ArcGIS Pro)</li>\n",
    "            </ul>\n",
    "        </td>\n",
    "    </tr>\n",
    "    <tr>\n",
    "        <td>\n",
    "            <span style=\"font-size: 85%;font-family: monospace\">0.1:</span>\n",
    "        </td>\n",
    "        <td>\n",
    "            <ul style=\"font-size: 85%;font-family: monospace\">\n",
    "                <li>Basic function for processing a .fit file.</li>\n",
    "                <li>Converting the crude Garmin coordinate format (semicircles) into 'real' coordinates.</li>\n",
    "            </ul>\n",
    "        </td>\n",
    "    </tr>\n",
    "</table>"
   ]
  },
  {
   "cell_type": "code",
   "execution_count": null,
   "metadata": {},
   "outputs": [],
   "source": [
    "import os\n",
    "import fitparse\n",
    "import pandas as pd\n",
    "import datetime\n",
    "from sqlalchemy import create_engine, inspect, text\n",
    "from sqlalchemy.orm import Session\n",
    "import sqlite3\n",
    "import numpy as np\n",
    "\n",
    "# Set global variables\n",
    "today = datetime.datetime.now().strftime('%Y%m%d_%H%M%S')\n",
    "#fit_path = 'U:\\\\pyTest\\\\fitfile2db\\\\testdaten'\n",
    "fit_path = os.path.join(os.getcwd(), 'testdaten')\n",
    "#csv_path = 'U:\\\\pyTest\\\\fitfile2db\\\\testdaten'\n",
    "csv_path = os.path.join(os.getcwd(), 'testdaten')\n",
    "sqlite_db = os.path.join(os.getcwd(), 'fitfile.db')\n",
    "use_db = True # If True, all data were written into database and no CSV would be generated"
   ]
  },
  {
   "attachments": {},
   "cell_type": "markdown",
   "metadata": {},
   "source": [
    "### Function: semicircles_to_degree\n",
    "\n",
    "```markdown\n",
    "Convert Garmin semicircles to degrees.\n",
    "```"
   ]
  },
  {
   "cell_type": "code",
   "execution_count": null,
   "metadata": {},
   "outputs": [],
   "source": [
    "def semicircles_to_degree(semicircles):\n",
    "    return semicircles * (180 / 2 ** 31)\n"
   ]
  },
  {
   "attachments": {},
   "cell_type": "markdown",
   "metadata": {},
   "source": [
    "### Function: mph_to_kph\n",
    "\n",
    "```markdown\n",
    "Convert miles per hour in radar data to kilometers per hour.\n",
    "```"
   ]
  },
  {
   "cell_type": "code",
   "execution_count": null,
   "metadata": {},
   "outputs": [],
   "source": [
    "def mph_to_kph(speeds):\n",
    "    if speeds is None:\n",
    "        return None\n",
    "    # Convert a single speed value to a list\n",
    "    if isinstance(speeds, (int, float)):\n",
    "        speeds = [speeds]\n",
    "    # Filtering the list to retain only valid speed values\n",
    "    speeds = [s for s in speeds if s is not None and not np.isnan(s)]\n",
    "    # Convert speeds to kph\n",
    "    speeds = [s * 1.609344 for s in speeds]\n",
    "    # Return the first value if it was originally a single value, otherwise return the list\n",
    "    return speeds[0] if len(speeds) == 1 else speeds"
   ]
  },
  {
   "attachments": {},
   "cell_type": "markdown",
   "metadata": {},
   "source": [
    "### Function: is_fit_file\n",
    "\n",
    "```markdown\n",
    "Check if a file has a .fit extension\n",
    "```"
   ]
  },
  {
   "cell_type": "code",
   "execution_count": null,
   "metadata": {},
   "outputs": [],
   "source": [
    "def is_fit_file(filename):\n",
    "    return filename.lower().endswith('.fit')"
   ]
  },
  {
   "attachments": {},
   "cell_type": "markdown",
   "metadata": {},
   "source": [
    "### Function: read_fit_file\n",
    "\n",
    "```markdown\n",
    "Read all data from a single .fit file and write result into pandas dataframe.\n",
    "```"
   ]
  },
  {
   "cell_type": "code",
   "execution_count": null,
   "metadata": {},
   "outputs": [],
   "source": [
    "def read_fit_file(file_path):\n",
    "    fitfile = fitparse.FitFile(file_path)\n",
    "\n",
    "    data = []\n",
    "    for record in fitfile.get_messages('record'):\n",
    "        # Create an empty dictionary to hold the data for this record\n",
    "        record_data = {}\n",
    "        for data_point in record:\n",
    "            # Convert Garmin-Semicircles to Degree\n",
    "            if data_point.name == 'position_lat' or data_point.name == 'position_long':\n",
    "                record_data[data_point.name] = semicircles_to_degree(data_point.value)\n",
    "            elif data_point.name == 'radar_speeds':\n",
    "                record_data[data_point.name] = mph_to_kph(data_point.value)\n",
    "            elif data_point.name == 'passing_speedabs':\n",
    "                # Include the passing speed in kph directly in the record_data dictionary\n",
    "                record_data['passing_speed_kph'] = mph_to_kph(data_point.value)\n",
    "            else:\n",
    "                record_data[data_point.name] = data_point.value\n",
    "\n",
    "        data.append(record_data)\n",
    "\n",
    "    # Convert the list of data to a Pandas DataFrame\n",
    "    df = pd.DataFrame(data)\n",
    "    # Give the longitude a proper field name\n",
    "    df = df.rename(columns={'position_long': 'position_lon'})\n",
    "\n",
    "    return df"
   ]
  },
  {
   "attachments": {},
   "cell_type": "markdown",
   "metadata": {},
   "source": [
    "### Function: find_fit_file\n",
    "\n",
    "```markdown\n",
    "Recursively find all .fit files in a directory\n",
    "```"
   ]
  },
  {
   "cell_type": "code",
   "execution_count": null,
   "metadata": {},
   "outputs": [],
   "source": [
    "def find_fit_files(directory):\n",
    "    fit_files = []\n",
    "    for root, dirs, files in os.walk(directory):\n",
    "        for file in files:\n",
    "            if is_fit_file(file):\n",
    "                fit_files.append(os.path.join(root, file))\n",
    "    return fit_files\n"
   ]
  },
  {
   "attachments": {},
   "cell_type": "markdown",
   "metadata": {},
   "source": [
    "### Function: write_to_database\n",
    "\n",
    "```markdown\n",
    "Write pandas DataFrame to sqlite database.\n",
    "```"
   ]
  },
  {
   "cell_type": "code",
   "execution_count": null,
   "metadata": {},
   "outputs": [],
   "source": [
    "def write_to_database(df, table_name):\n",
    "    \n",
    "   # Establish database connection\n",
    "    conn = sqlite3.connect(sqlite_db)\n",
    "    cursor = conn.cursor()\n",
    "\n",
    "    # Get the columns of the table\n",
    "    cursor.execute(f\"PRAGMA table_info({table_name})\")\n",
    "    table_info = cursor.fetchall()\n",
    "    table_columns = [tup[1] for tup in table_info]\n",
    "    \n",
    "    # Add missing columns to the table\n",
    "    for col in df.columns:\n",
    "        if col not in table_columns:\n",
    "            cursor.execute(f\"ALTER TABLE {table_name} ADD COLUMN {col} TEXT\")\n",
    "            conn.commit()\n",
    "            table_columns.append(col)\n",
    "            \n",
    "    # Write DataFrame to database\n",
    "    for row in df.itertuples(index=False):\n",
    "        # Create a dictionary mapping column names to their values for the current row\n",
    "        row_dict = {col: getattr(row, col) for col in df.columns}\n",
    "        # Create a list of values in the same order as the columns in the table\n",
    "        values = [row_dict.get(col, '') for col in table_columns]\n",
    "        cursor.execute(f\"INSERT INTO {table_name} ({','.join(table_columns)}) VALUES ({','.join(['?']*len(table_columns))})\", tuple(values))\n",
    "        conn.commit()\n",
    "\n",
    "    # Close database connection\n",
    "    conn.close()\n",
    "\n",
    "    print(f\"Data successfully written to table {table_name} in database.\")\n",
    "\n"
   ]
  },
  {
   "attachments": {},
   "cell_type": "markdown",
   "metadata": {},
   "source": [
    "### Function: read_data_from_database_database\n",
    "\n",
    "```markdown\n",
    "Read things from database and give it back as pandas dataframe.\n",
    "```"
   ]
  },
  {
   "cell_type": "code",
   "execution_count": null,
   "metadata": {},
   "outputs": [],
   "source": [
    "def read_data_from_database(query):\n",
    "    \n",
    "    # Establish database connection\n",
    "    conn = sqlite3.connect(sqlite_db)\n",
    "    cursor = conn.cursor()\n",
    "    requested_data = pd.read_sql_query(query, conn)\n",
    "\n",
    "    # Close connection and cursor\n",
    "    cursor.close()\n",
    "    conn.close()\n",
    "\n",
    "    # Return requested data as a Pandas DataFrame\n",
    "    return requested_data\n",
    "    "
   ]
  },
  {
   "attachments": {},
   "cell_type": "markdown",
   "metadata": {},
   "source": [
    "### Function: run_fitfile2db\n",
    "\n",
    "```markdown\n",
    "Main function to do all the funny things.\n",
    "```"
   ]
  },
  {
   "cell_type": "code",
   "execution_count": null,
   "metadata": {},
   "outputs": [],
   "source": [
    "def run_fitfile2db(fit_path, csv_path):\n",
    "    # Set the directory to search for .fit files\n",
    "    if fit_path:\n",
    "        directory = fit_path\n",
    "    else:\n",
    "        directory = os.getcwd()\n",
    "\n",
    "    # Find all .fit files in the directory\n",
    "    fit_files = find_fit_files(directory)\n",
    "\n",
    "    # Store filenames in dataframe\n",
    "    df_fn = pd.DataFrame({'filename': fit_files})\n",
    "    fieldname = df_fn.columns[0]\n",
    "    df_fn =df_fn.rename(columns={fieldname: 'filename'})\n",
    "\n",
    "    # Only if db flag is given:\n",
    "    if use_db:\n",
    "        # Check, if filename are known and build a dataframe with new files only\n",
    "        querystring = 'select * from known_fitfiles'\n",
    "        df_known = read_data_from_database(querystring)\n",
    "        df_fn = df_fn[~df_fn['filename'].isin(df_known['filename'])]\n",
    "        # Exit, if there is no new file\n",
    "        if df_fn.empty:\n",
    "            print('No new files to proceed!')\n",
    "            return\n",
    "    \n",
    "    # Read the data from each (new) .fit file and combine it into a single DataFrame\n",
    "    dfs = []\n",
    "    for fit_file in df_fn['filename']:\n",
    "        df = read_fit_file(fit_file)\n",
    "        dfs.append(df)\n",
    "    combined_df = pd.concat(dfs)\n",
    "\n",
    "    # Convert all fields, except position data, to text\n",
    "    combined_df = combined_df.astype({col: str for col in combined_df.columns if col not in ['position_lat', 'position_lon']})\n",
    "\n",
    "    # Convert position fields to real\n",
    "    if 'position_lat' in combined_df.columns:\n",
    "        combined_df['position_lat'] = pd.to_numeric(combined_df['position_lat'], errors='coerce')\n",
    "    if 'position_lon' in combined_df.columns:\n",
    "        combined_df['position_lon'] = pd.to_numeric(combined_df['position_lon'], errors='coerce')\n",
    "    if 'passing_speed_kph' in combined_df.columns:\n",
    "        combined_df['passing_speed_kph'] = pd.to_numeric(combined_df['passing_speed_kph'], errors='coerce')\n",
    "\n",
    "    # Write the combined DataFrame into database or to a CSV file\n",
    "    if use_db:\n",
    "        # First write data, if it fails, the list of known files would be ignored for a new try\n",
    "        write_to_database(combined_df, 'fitfile_data')\n",
    "        write_to_database(df_fn, 'known_fitfiles')\n",
    "    elif csv_path:\n",
    "        combined_df.to_csv(f'{csv_path}/{today}_output.csv', index=False)\n",
    "    else:\n",
    "        combined_df.to_csv('output.csv', index=False)"
   ]
  },
  {
   "attachments": {},
   "cell_type": "markdown",
   "metadata": {},
   "source": [
    "### Go!"
   ]
  },
  {
   "cell_type": "code",
   "execution_count": null,
   "metadata": {},
   "outputs": [],
   "source": [
    "run_fitfile2db(fit_path, csv_path)"
   ]
  }
 ],
 "metadata": {
  "kernelspec": {
   "display_name": "Python 3",
   "language": "python",
   "name": "python3"
  },
  "language_info": {
   "codemirror_mode": {
    "name": "ipython",
    "version": 3
   },
   "file_extension": ".py",
   "mimetype": "text/x-python",
   "name": "python",
   "nbconvert_exporter": "python",
   "pygments_lexer": "ipython3",
   "version": "3.10.10"
  },
  "orig_nbformat": 4,
  "vscode": {
   "interpreter": {
    "hash": "d6e51ffc48c74bc681f1d405acabe6496ba2a44cafe5d9b8a0bf330bfe99020e"
   }
  }
 },
 "nbformat": 4,
 "nbformat_minor": 2
}
