{
 "cells": [
  {
   "attachments": {},
   "cell_type": "markdown",
   "metadata": {},
   "source": [
    "# Fit-File-Parser\n",
    "\n",
    "```markdown\n",
    "Autor:          Maik 'Schrottie' Bischoff\n",
    "Beschreibung:   Parse Garmin .fit files and write the data to a CSV file or database.\n",
    "Version:        0.2\n",
    "Stand:          06.04.2023\n",
    "```\n",
    "##### ToDo:\n",
    "\n",
    "<ul style=\"font-size: 85%;font-family: monospace\">\n",
    "    <li>Function to create a table in the database with the fields from the .fit-file.</li>\n",
    "    <li>Function for checking whether all fields from the current .fit-file exist in an existing table, if necessary updating the table with the new fields.</li>\n",
    "</ul>\n",
    "\n",
    "##### Change-/Versionlog:\n",
    "\n",
    "<table>\n",
    "    <tr>\n",
    "        <td>\n",
    "            <span style=\"font-size: 85%;font-family: monospace\">0.2:</span>\n",
    "        </td>\n",
    "        <td>\n",
    "            <ul style=\"font-size: 85%;font-family: monospace\">\n",
    "                <li>Added a function to recursively search a directory for .fit files to allow processing multiple files at the same time.</li>\n",
    "                <li>Adjusting the field label for the longitude (position_long --> position_lon) so that the field is recognized properly when the data is processed further (e.g. in ArcGIS Pro)</li>\n",
    "            </ul>\n",
    "        </td>\n",
    "    </tr>\n",
    "    <tr>\n",
    "        <td>\n",
    "            <span style=\"font-size: 85%;font-family: monospace\">0.1:</span>\n",
    "        </td>\n",
    "        <td>\n",
    "            <ul style=\"font-size: 85%;font-family: monospace\">\n",
    "                <li>Basic function for processing a .fit file.</li>\n",
    "                <li>Converting the crude Garmin coordinate format (semicircles) into 'real' coordinates.</li>\n",
    "            </ul>\n",
    "        </td>\n",
    "    </tr>\n",
    "</table>"
   ]
  },
  {
   "cell_type": "code",
   "execution_count": 40,
   "metadata": {},
   "outputs": [],
   "source": [
    "import os\n",
    "import fitparse\n",
    "import pandas as pd\n",
    "import datetime\n",
    "from sqlalchemy import create_engine\n",
    "\n",
    "# Set global variables\n",
    "today = datetime.datetime.now().strftime('%Y%m%d_%H%M%S')\n",
    "fit_path = 'U:\\\\pyScripte\\\\fit_file_parser\\\\testdaten'\n",
    "csv_path = 'U:\\\\pyScripte\\\\fit_file_parser\\\\testdaten'"
   ]
  },
  {
   "cell_type": "code",
   "execution_count": 41,
   "metadata": {},
   "outputs": [],
   "source": [
    "# Function for converting Garmin semicircles to degrees.\n",
    "def semicircles_to_degree(semicircles):\n",
    "    \n",
    "    return semicircles * (180 / 2 ** 31)\n"
   ]
  },
  {
   "cell_type": "code",
   "execution_count": 42,
   "metadata": {},
   "outputs": [],
   "source": [
    "# Function to check if a file has a .fit extension\n",
    "def is_fit_file(filename):\n",
    "    return filename.lower().endswith('.fit')"
   ]
  },
  {
   "cell_type": "code",
   "execution_count": 43,
   "metadata": {},
   "outputs": [],
   "source": [
    "# Function to read the data from a single .fit file\n",
    "def read_fit_file(file_path):\n",
    "    fitfile = fitparse.FitFile(file_path)\n",
    "\n",
    "    data = []\n",
    "    for record in fitfile.get_messages('record'):\n",
    "        # Create an empty dictionary to hold the data for this record\n",
    "        record_data = {}\n",
    "        for data_point in record:\n",
    "            # Convert Garmin-Semicircles to Degree\n",
    "            if data_point.name == 'position_lat' or data_point.name == 'position_long':\n",
    "                record_data[data_point.name] = semicircles_to_degree(data_point.value)\n",
    "            else:\n",
    "                record_data[data_point.name] = data_point.value\n",
    "        data.append(record_data)\n",
    "\n",
    "    # Convert the list of data to a Pandas DataFrame\n",
    "    df = pd.DataFrame(data)\n",
    "    # Give the longitude a proper field name\n",
    "    df = df.rename(columns={'position_long': 'position_lon'})\n",
    "\n",
    "    return df"
   ]
  },
  {
   "cell_type": "code",
   "execution_count": 44,
   "metadata": {},
   "outputs": [],
   "source": [
    "# Function to recursively find all .fit files in a directory\n",
    "def find_fit_files(directory):\n",
    "    fit_files = []\n",
    "    for root, dirs, files in os.walk(directory):\n",
    "        for file in files:\n",
    "            if is_fit_file(file):\n",
    "                fit_files.append(os.path.join(root, file))\n",
    "    return fit_files\n"
   ]
  },
  {
   "cell_type": "code",
   "execution_count": 45,
   "metadata": {},
   "outputs": [],
   "source": [
    "# Function to do all the funny things\n",
    "def extract_fit_data_to_df(fit_path, csv_path):\n",
    "    # Set the directory to search for .fit files\n",
    "    if fit_path:\n",
    "        directory = fit_path\n",
    "    else:\n",
    "        directory = os.getcwd()\n",
    "\n",
    "    # Find all .fit files in the directory\n",
    "    fit_files = find_fit_files(directory)\n",
    "\n",
    "    # Read the data from each .fit file and combine it into a single DataFrame\n",
    "    dfs = []\n",
    "    for fit_file in fit_files:\n",
    "        df = read_fit_file(fit_file)\n",
    "        dfs.append(df)\n",
    "    combined_df = pd.concat(dfs)\n",
    "\n",
    "    # Write the combined DataFrame to a CSV file\n",
    "    if csv_path:\n",
    "        combined_df.to_csv(f'{csv_path}/{today}_output.csv', index=False)\n",
    "    else:\n",
    "        combined_df.to_csv('output.csv', index=False)"
   ]
  },
  {
   "cell_type": "code",
   "execution_count": null,
   "metadata": {},
   "outputs": [],
   "source": [
    "def load_dotenv():\n",
    "\n",
    "    server=os.getenv('DB_HOST')\n",
    "    database=os.getenv('DB_NAME')\n",
    "    username=os.getenv('DB_USER')\n",
    "    password=os.getenv('USER_PASSWORD')\n",
    "    \n",
    "    return server, database, username, password"
   ]
  },
  {
   "cell_type": "code",
   "execution_count": null,
   "metadata": {},
   "outputs": [],
   "source": [
    "# Function to write pandas DataFrame to database using sqlalchemy.\n",
    "def write_to_mssql(db_type=\"PGSQL\", df, table_name):\n",
    "   \n",
    "    # Load environment variables from .env file\n",
    "    server, database, username, password = load_dotenv()\n",
    "\n",
    "    # Create sqlalchemy engine\n",
    "    if db_type == 'PGSQL':\n",
    "        engine = create_engine(f'postgresql://{username}:{password}@{server}/{database}')\n",
    "    elif db_type  == 'MSSQL':\n",
    "        engine = create_engine(f'mssql+pymssql://{username}:{password}@{server}/{database}')\n",
    "    elif db_type == 'MARIADB':\n",
    "        engine = create_engine(f'mysql+pymysql://{username}:{password}@{server}/{database}')\n",
    "    elif db_type == 'ORACLE':\n",
    "        engine = create_engine(f'oracle+cx_oracle://{username}:{password}@{server}/{database}')\n",
    "    elif db_type == 'MYSQL':\n",
    "        engine = create_engine(f'mysql+pymysql://{username}:{password}@{server}/{database}')\n",
    "    elif db_type == 'SQLITE':\n",
    "        engine = create_engine('sqlite:///mydatabase.db')\n",
    "    else:\n",
    "        return\n",
    "\n",
    "    # Write DataFrame to database\n",
    "    df.to_sql(name=table_name, con=engine, if_exists='append', index=False)\n",
    "\n",
    "    print(f\"DataFrame successfully written to table {table_name} in MS SQL database.\")\n"
   ]
  },
  {
   "cell_type": "code",
   "execution_count": 46,
   "metadata": {},
   "outputs": [],
   "source": [
    "extract_fit_data_to_df(fit_path, csv_path)"
   ]
  }
 ],
 "metadata": {
  "kernelspec": {
   "display_name": "Python 3",
   "language": "python",
   "name": "python3"
  },
  "language_info": {
   "codemirror_mode": {
    "name": "ipython",
    "version": 3
   },
   "file_extension": ".py",
   "mimetype": "text/x-python",
   "name": "python",
   "nbconvert_exporter": "python",
   "pygments_lexer": "ipython3",
   "version": "3.10.10"
  },
  "orig_nbformat": 4,
  "vscode": {
   "interpreter": {
    "hash": "d6e51ffc48c74bc681f1d405acabe6496ba2a44cafe5d9b8a0bf330bfe99020e"
   }
  }
 },
 "nbformat": 4,
 "nbformat_minor": 2
}
